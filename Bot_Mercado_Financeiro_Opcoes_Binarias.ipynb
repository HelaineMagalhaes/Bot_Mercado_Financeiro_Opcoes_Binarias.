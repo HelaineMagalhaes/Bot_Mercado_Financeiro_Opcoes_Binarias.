{
  "nbformat": 4,
  "nbformat_minor": 0,
  "metadata": {
    "colab": {
      "provenance": [],
      "authorship_tag": "ABX9TyOjBaQTVhmJbI1V+ooPDrs6",
      "include_colab_link": true
    },
    "kernelspec": {
      "name": "python3",
      "display_name": "Python 3"
    },
    "language_info": {
      "name": "python"
    }
  },
  "cells": [
    {
      "cell_type": "markdown",
      "metadata": {
        "id": "view-in-github",
        "colab_type": "text"
      },
      "source": [
        "<a href=\"https://colab.research.google.com/github/HelaineMagalhaes/Bot_Mercado_Financeiro_Opcoes_Binarias./blob/main/Bot_Mercado_Financeiro_Opcoes_Binarias.ipynb\" target=\"_parent\"><img src=\"https://colab.research.google.com/assets/colab-badge.svg\" alt=\"Open In Colab\"/></a>"
      ]
    },
    {
      "cell_type": "code",
      "source": [
        "#Importações e Configurações Iniciais\n",
        "!pip install -U -q google-generativeai\n",
        "import pandas as pd\n",
        "import numpy as np\n"
      ],
      "metadata": {
        "id": "zEVUgX7bSaeJ"
      },
      "execution_count": 2,
      "outputs": []
    },
    {
      "cell_type": "code",
      "execution_count": 3,
      "metadata": {
        "id": "V_a8TQyj4iXZ"
      },
      "outputs": [],
      "source": [
        "#Get API key Gemini\n",
        "import google.generativeai as genai\n",
        "from google.colab import userdata\n",
        "api_key = userdata.get('secretName')\n",
        "genai.configure(api_key=api_key)"
      ]
    },
    {
      "cell_type": "code",
      "source": [
        "# Insira API key ou seu token de acesso do bot do Telegram aqui\n",
        "import google.generativeai as genai\n",
        "from google.colab import userdata\n",
        "api_key = userdata.get('Telegram')\n",
        "genai.configure(api_key=api_key)"
      ],
      "metadata": {
        "id": "mDEK6GizpIM1"
      },
      "execution_count": 1,
      "outputs": []
    },
    {
      "cell_type": "code",
      "source": [
        "# Insira API key ou seu token de acesso a PocketOption aqui\n",
        "import google.generativeai as genai\n",
        "from google.colab import userdata\n",
        "api_key = userdata.get('PocketOption')\n",
        "genai.configure(api_key=api_key)"
      ],
      "metadata": {
        "id": "8Qu2gP2uF3Ad"
      },
      "execution_count": 4,
      "outputs": []
    },
    {
      "cell_type": "code",
      "source": [
        "#Lógica do Operacional\n",
        "const pocketoption = require('pocketoption');\n",
        "\n",
        "// Connect to PocketOption API\n",
        "const io = new pocketoption({\n",
        "  username: 'your_username',\n",
        "  password: 'your_password'\n",
        "});\n",
        "\n",
        "// Define trading parameters\n",
        "let asset; // Asset will be selected dynamically\n",
        "const duration = 1; // Trade duration in minutes\n",
        "const amount = 0.01; // Trade amount (percentage of bankroll)\n",
        "const minimumAmount = 1; // Minimum trade amount\n",
        "const bankroll = 1000; // Initial bankroll\n",
        "\n",
        "// Define technical indicators\n",
        "const ema22 = new EMA(22);\n",
        "const ema9 = new EMA(9);\n",
        "\n",
        "// Initialize candles array\n",
        "let candles = [];\n",
        "\n",
        "// Define trade execution function\n",
        "function executeTrade(direction) {\n",
        "  const lastFourCandles = candles.slice(-4); // Get the last 4 candles\n",
        "\n",
        "  // Check for the trading pattern\n",
        "  if (lastFourCandles[0].close > lastFourCandles[1].close && // Check if first 2 are red\n",
        "      lastFourCandles[1].close > lastFourCandles[2].close && // Check if 3rd is green\n",
        "      lastFourCandles[2].close < lastFourCandles[3].close) { // Check if 4th is red\n",
        "    if (price < ema22 && price < ema9) { // Check 5th candle price vs EMAs\n",
        "      direction = 'put'; // Sell (put)\n",
        "    } else {\n",
        "      direction = 'call'; // Buy (call)\n",
        "    }\n",
        "  }\n",
        "\n",
        "  // Calculate trade amount based on bankroll and minimum amount\n",
        "  const tradeAmount = Math.max(amount * bankroll, minimumAmount);\n",
        "\n",
        "  // Open the trade using PocketOption API\n",
        "  io.buy(asset, duration, direction, tradeAmount, function(error, result) {\n",
        "    if (error) {\n",
        "      console.error(error);\n",
        "    } else {\n",
        "      console.log('Trade opened:', result);\n",
        "    }\n",
        "  });\n",
        "}\n",
        "\n",
        "// Function to get assets with high payout and 1 minute timeframe\n",
        "function getAssetsWithHighPayoutAnd1MinuteTimeframe() {\n",
        "  // Implement logic to retrieve assets from PocketOption API\n",
        "  // Filter assets based on payout and timeframe criteria\n",
        "  return filteredAssets; // Return list of matching assets\n",
        "}\n",
        "\n",
        "// Start monitoring price and executing trades\n",
        "setInterval(function() {\n",
        "  // Get a random asset from the list\n",
        "  asset = getAssetsWithHighPayoutAnd1MinuteTimeframe()[Math.floor(Math.random() * availableAssets.length)];\n",
        "\n",
        "  io.getInstrumentPrice(asset, function(error, result) {\n",
        "    if (error) {\n",
        "      console.error(error);\n",
        "    } else {\n",
        "      price = result.price; // Update current price\n",
        "\n",
        "      // Check if we have 5 candles for signal\n",
        "      if (candles.length === 5) {\n",
        "        // Execute trade based on signal and price\n",
        "        executeTrade(direction);\n",
        "      }\n",
        "\n",
        "      // Update candles array\n",
        "      candles.shift();\n",
        "      candles.push({\n",
        "        open: price,\n",
        "        high: price,\n",
        "        low: price,\n",
        "        close: price\n",
        "      });\n",
        "    }\n",
        "  });\n",
        "}, 60000); // Check price every minute\n"
      ],
      "metadata": {
        "id": "COJvG7E7LvHW"
      },
      "execution_count": null,
      "outputs": []
    },
    {
      "cell_type": "code",
      "source": [
        "#Operar apenas gráficos com payout igual ou superior a 92%\n",
        "def get_candles(self):\n",
        "    candles = []\n",
        "    for instrument in self.instruments:\n",
        "        # Obter dados de candles para o instrumento atual\n",
        "        candles_data = self.broker.get_candles(instrument)\n",
        "\n",
        "        # Calcular payout para cada candle\n",
        "        for candle in candles_data:\n",
        "            payout = calculate_payout(candle)\n",
        "\n",
        "            # Verificar se o payout atende ao requisito\n",
        "            if payout >= 0.92:\n",
        "                # Adicionar candle à lista se o payout for igual ou superior a 92%\n",
        "                candles.append(Candle(instrument, candle))\n",
        "\n",
        "    return candles\n"
      ],
      "metadata": {
        "id": "hHoWX_06ViQm"
      },
      "execution_count": null,
      "outputs": []
    },
    {
      "cell_type": "code",
      "source": [
        "#Gerenciamento de Risco para Não Quebrar a Banca ou Perder Totalmente o Capital\n",
        "def gerenciamento_risco(capital_inicial, payout, loss_streak=0):\n",
        "  \"\"\"\n",
        "  Calcula os valores de entrada e gerencia o risco com base no método Martingale modificado.\n",
        "\n",
        "  Args:\n",
        "    capital_inicial: Capital inicial da conta.\n",
        "    payout: Payout do ativo selecionado.\n",
        "    loss_streak: Quantidade de perdas consecutivas (default: 0).\n",
        "\n",
        "  Returns:\n",
        "    Uma tupla contendo o valor da entrada, o retorno esperado e a ação a ser tomada.\n",
        "  \"\"\"\n",
        "\n",
        "  # Define o valor da entrada fixa (1% do capital inicial)\n",
        "  valor_entrada_fixa = 0.01 * capital_inicial\n",
        "\n",
        "  if loss_streak == 0:\n",
        "    # Mão fixa (sem perdas anteriores)\n",
        "    return valor_entrada_fixa, valor_entrada_fixa * payout, \"Entrada fixa\"\n",
        "\n",
        "  elif loss_streak == 1:\n",
        "    # Recuperação da primeira perda\n",
        "    valor_entrada = 2.09 * valor_entrada_fixa\n",
        "    return valor_entrada, valor_entrada * payout, \"Recuperação 1\"\n",
        "\n",
        "  else:\n",
        "    # Sequência de perdas, dividindo a entrada em duas mãos\n",
        "    valor_entrada_1 = 1.54 * valor_entrada_fixa\n",
        "    valor_entrada_2 = 2.96 * valor_entrada_fixa\n",
        "\n",
        "    # Calcula o retorno esperado para as duas entradas combinadas\n",
        "    retorno_esperado = (valor_entrada_1 + valor_entrada_2) * payout - valor_entrada_1\n",
        "\n",
        "    # Define a ação com base na sequência de perdas\n",
        "    if loss_streak == 2:\n",
        "      acao = \"Recuperação 2 (Mão 1)\"\n",
        "    elif loss_streak == 3:\n",
        "      acao = \"Recuperação 2 (Mão 2)\"\n",
        "    else:\n",
        "      # Ajusta o valor da entrada e a ação com base na tabela fornecida\n",
        "      # (Implementar lógica para entradas posteriores com base na tabela)\n",
        "      acao = \"Recuperação 3+\"\n",
        "\n",
        "    return valor_entrada_1, retorno_esperado, acao\n",
        "\n",
        "# Exemplo de uso (adaptar para integração com o bot)\n",
        "capital_inicial = 100  # Obter o valor real da conta da PocketOption ou demo\n",
        "payout = 0.92  # Obter o payout do ativo selecionado\n",
        "loss_streak = 2  # Obter a quantidade de perdas consecutivas\n",
        "\n",
        "valor_entrada, retorno_esperado, acao = gerenciamento_risco(capital_inicial, payout, loss_streak)\n",
        "\n",
        "print(f\"Valor da entrada: ${valor_entrada:.2f}\")\n",
        "print(f\"Retorno esperado: ${retorno_esperado:.2f}\")\n",
        "print(f\"Ação: {acao}\")"
      ],
      "metadata": {
        "colab": {
          "base_uri": "https://localhost:8080/"
        },
        "id": "lb5OQPFZqT1E",
        "outputId": "2f6cb254-ae1b-4b2c-fca1-e2f11e8eb83a"
      },
      "execution_count": 6,
      "outputs": [
        {
          "output_type": "stream",
          "name": "stdout",
          "text": [
            "Valor da entrada: $1.54\n",
            "Retorno esperado: $2.60\n",
            "Ação: Recuperação 2 (Mão 1)\n"
          ]
        }
      ]
    }
  ]
}